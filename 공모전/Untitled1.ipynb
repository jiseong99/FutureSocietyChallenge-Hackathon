{
 "cells": [
  {
   "cell_type": "code",
   "execution_count": 2,
   "id": "5a31c9e4",
   "metadata": {},
   "outputs": [
    {
     "data": {
      "text/html": [
       "<style>.container { width:95% !important; }</style>"
      ],
      "text/plain": [
       "<IPython.core.display.HTML object>"
      ]
     },
     "metadata": {},
     "output_type": "display_data"
    }
   ],
   "source": [
    "from IPython.display import display, HTML\n",
    "display(HTML(\"<style>.container { width:95% !important; }</style>\"))"
   ]
  },
  {
   "cell_type": "code",
   "execution_count": 12,
   "id": "a85de3ea",
   "metadata": {},
   "outputs": [],
   "source": [
    "import folium\n",
    "from folium.plugins import MarkerCluster\n",
    "import json\n",
    "import pandas as pd\n",
    "import numpy as np"
   ]
  },
  {
   "cell_type": "code",
   "execution_count": 3,
   "id": "44dc1186",
   "metadata": {},
   "outputs": [],
   "source": [
    "route = pd.read_csv(r'C:\\Users\\CHOI\\공모전\\데이터\\생태통로_pre.csv')\n",
    "fence = pd.read_csv(r'C:\\Users\\CHOI\\공모전\\데이터\\유도울타리.csv', encoding = 'cp949')\n",
    "roadkill_df = pd.read_csv(r'C:\\Users\\CHOI\\공모전\\데이터\\한국도로공사_로드킬 데이터 정보_2022~2019 .csv', encoding = 'cp949')\n",
    "animal = pd.read_csv(r'C:\\Users\\CHOI\\공모전\\데이터\\국내 포유류 서식 분포_pre.csv', encoding = 'cp949')\n",
    "highway_df = pd.read_csv(r'C:\\Users\\CHOI\\공모전\\데이터\\도로정보.csv', encoding = 'cp949')\n",
    "geongi_df = pd.read_csv(r'C:\\Users\\CHOI\\공모전\\데이터\\경기충청_roadkill.csv')"
   ]
  },
  {
   "cell_type": "code",
   "execution_count": 4,
   "id": "12e914a8",
   "metadata": {},
   "outputs": [
    {
     "data": {
      "text/html": [
       "<div>\n",
       "<style scoped>\n",
       "    .dataframe tbody tr th:only-of-type {\n",
       "        vertical-align: middle;\n",
       "    }\n",
       "\n",
       "    .dataframe tbody tr th {\n",
       "        vertical-align: top;\n",
       "    }\n",
       "\n",
       "    .dataframe thead th {\n",
       "        text-align: right;\n",
       "    }\n",
       "</style>\n",
       "<table border=\"1\" class=\"dataframe\">\n",
       "  <thead>\n",
       "    <tr style=\"text-align: right;\">\n",
       "      <th></th>\n",
       "      <th>번호</th>\n",
       "      <th>생태통로명</th>\n",
       "      <th>주소</th>\n",
       "      <th>차선_수</th>\n",
       "      <th>관리기관</th>\n",
       "      <th>생태통로유형</th>\n",
       "      <th>설치기관</th>\n",
       "      <th>위도</th>\n",
       "      <th>경도</th>\n",
       "    </tr>\n",
       "  </thead>\n",
       "  <tbody>\n",
       "    <tr>\n",
       "      <th>0</th>\n",
       "      <td>1001</td>\n",
       "      <td>중동터널</td>\n",
       "      <td>서울특별시 구로구 궁동</td>\n",
       "      <td>왕복6차로</td>\n",
       "      <td>서울특별시 구로구</td>\n",
       "      <td>육교형</td>\n",
       "      <td>서울특별시</td>\n",
       "      <td>37.506492</td>\n",
       "      <td>126.830989</td>\n",
       "    </tr>\n",
       "  </tbody>\n",
       "</table>\n",
       "</div>"
      ],
      "text/plain": [
       "     번호 생태통로명            주소   차선_수       관리기관 생태통로유형   설치기관         위도  \\\n",
       "0  1001  중동터널  서울특별시 구로구 궁동  왕복6차로  서울특별시 구로구    육교형  서울특별시  37.506492   \n",
       "\n",
       "           경도  \n",
       "0  126.830989  "
      ]
     },
     "execution_count": 4,
     "metadata": {},
     "output_type": "execute_result"
    }
   ],
   "source": [
    "route.head(1)"
   ]
  },
  {
   "cell_type": "code",
   "execution_count": 5,
   "id": "31dea573",
   "metadata": {},
   "outputs": [
    {
     "data": {
      "text/html": [
       "<div>\n",
       "<style scoped>\n",
       "    .dataframe tbody tr th:only-of-type {\n",
       "        vertical-align: middle;\n",
       "    }\n",
       "\n",
       "    .dataframe tbody tr th {\n",
       "        vertical-align: top;\n",
       "    }\n",
       "\n",
       "    .dataframe thead th {\n",
       "        text-align: right;\n",
       "    }\n",
       "</style>\n",
       "<table border=\"1\" class=\"dataframe\">\n",
       "  <thead>\n",
       "    <tr style=\"text-align: right;\">\n",
       "      <th></th>\n",
       "      <th>본부</th>\n",
       "      <th>지사</th>\n",
       "      <th>노선</th>\n",
       "      <th>설치시점</th>\n",
       "      <th>설치종점</th>\n",
       "      <th>방향</th>\n",
       "      <th>연장</th>\n",
       "      <th>높이</th>\n",
       "      <th>설치년도</th>\n",
       "    </tr>\n",
       "  </thead>\n",
       "  <tbody>\n",
       "    <tr>\n",
       "      <th>0</th>\n",
       "      <td>수도권본부</td>\n",
       "      <td>경기광주</td>\n",
       "      <td>제2중부선</td>\n",
       "      <td>353</td>\n",
       "      <td>353</td>\n",
       "      <td>부산</td>\n",
       "      <td>30</td>\n",
       "      <td>2</td>\n",
       "      <td>2011</td>\n",
       "    </tr>\n",
       "  </tbody>\n",
       "</table>\n",
       "</div>"
      ],
      "text/plain": [
       "      본부    지사     노선  설치시점  설치종점  방향  연장  높이  설치년도\n",
       "0  수도권본부  경기광주  제2중부선   353   353  부산  30   2  2011"
      ]
     },
     "execution_count": 5,
     "metadata": {},
     "output_type": "execute_result"
    }
   ],
   "source": [
    "fence.head(1)"
   ]
  },
  {
   "cell_type": "code",
   "execution_count": 6,
   "id": "cc5108fa",
   "metadata": {},
   "outputs": [
    {
     "data": {
      "text/html": [
       "<div>\n",
       "<style scoped>\n",
       "    .dataframe tbody tr th:only-of-type {\n",
       "        vertical-align: middle;\n",
       "    }\n",
       "\n",
       "    .dataframe tbody tr th {\n",
       "        vertical-align: top;\n",
       "    }\n",
       "\n",
       "    .dataframe thead th {\n",
       "        text-align: right;\n",
       "    }\n",
       "</style>\n",
       "<table border=\"1\" class=\"dataframe\">\n",
       "  <thead>\n",
       "    <tr style=\"text-align: right;\">\n",
       "      <th></th>\n",
       "      <th>본부명</th>\n",
       "      <th>지사명</th>\n",
       "      <th>노선명</th>\n",
       "      <th>구간</th>\n",
       "      <th>방 향</th>\n",
       "      <th>5km</th>\n",
       "      <th>발생건수</th>\n",
       "      <th>위도</th>\n",
       "      <th>경도</th>\n",
       "      <th>발생년도</th>\n",
       "    </tr>\n",
       "  </thead>\n",
       "  <tbody>\n",
       "    <tr>\n",
       "      <th>0</th>\n",
       "      <td>강원</td>\n",
       "      <td>홍천</td>\n",
       "      <td>중앙선</td>\n",
       "      <td>315~320</td>\n",
       "      <td>부산</td>\n",
       "      <td>315</td>\n",
       "      <td>13</td>\n",
       "      <td>37.340987</td>\n",
       "      <td>127.912591</td>\n",
       "      <td>2022</td>\n",
       "    </tr>\n",
       "  </tbody>\n",
       "</table>\n",
       "</div>"
      ],
      "text/plain": [
       "   본부명   지사명   노선명       구간   방 향    5km    발생건수          위도          경도  발생년도\n",
       "0    강원    홍천   중앙선  315~320    부산    315      13  37.340987  127.912591  2022"
      ]
     },
     "execution_count": 6,
     "metadata": {},
     "output_type": "execute_result"
    }
   ],
   "source": [
    "roadkill_df.head(1)"
   ]
  },
  {
   "cell_type": "code",
   "execution_count": 7,
   "id": "0b1f7a3f",
   "metadata": {},
   "outputs": [
    {
     "data": {
      "text/html": [
       "<div>\n",
       "<style scoped>\n",
       "    .dataframe tbody tr th:only-of-type {\n",
       "        vertical-align: middle;\n",
       "    }\n",
       "\n",
       "    .dataframe tbody tr th {\n",
       "        vertical-align: top;\n",
       "    }\n",
       "\n",
       "    .dataframe thead th {\n",
       "        text-align: right;\n",
       "    }\n",
       "</style>\n",
       "<table border=\"1\" class=\"dataframe\">\n",
       "  <thead>\n",
       "    <tr style=\"text-align: right;\">\n",
       "      <th></th>\n",
       "      <th>wkt_geom</th>\n",
       "      <th>SPCE_ID</th>\n",
       "      <th>EXAMIN_REA</th>\n",
       "      <th>SPCS_LCNM</th>\n",
       "      <th>SPCS_SCNCE</th>\n",
       "      <th>EXAMIN_YEA</th>\n",
       "      <th>EXAMIN_BEG</th>\n",
       "      <th>EXAMIN_END</th>\n",
       "      <th>longitude</th>\n",
       "      <th>latitude</th>\n",
       "    </tr>\n",
       "  </thead>\n",
       "  <tbody>\n",
       "    <tr>\n",
       "      <th>0</th>\n",
       "      <td>215407.71410000044852495 406578.46749999932944775</td>\n",
       "      <td>9000000000553120</td>\n",
       "      <td>포유류</td>\n",
       "      <td>고라니</td>\n",
       "      <td>Hydropotes inermis</td>\n",
       "      <td>2017</td>\n",
       "      <td>2017-09-16</td>\n",
       "      <td>2017-09-16</td>\n",
       "      <td>127.171444</td>\n",
       "      <td>36.257028</td>\n",
       "    </tr>\n",
       "  </tbody>\n",
       "</table>\n",
       "</div>"
      ],
      "text/plain": [
       "                                            wkt_geom           SPCE_ID  \\\n",
       "0  215407.71410000044852495 406578.46749999932944775  9000000000553120   \n",
       "\n",
       "  EXAMIN_REA SPCS_LCNM          SPCS_SCNCE  EXAMIN_YEA  EXAMIN_BEG  \\\n",
       "0        포유류       고라니  Hydropotes inermis        2017  2017-09-16   \n",
       "\n",
       "   EXAMIN_END   longitude   latitude  \n",
       "0  2017-09-16  127.171444  36.257028  "
      ]
     },
     "execution_count": 7,
     "metadata": {},
     "output_type": "execute_result"
    }
   ],
   "source": [
    "animal.head(1)"
   ]
  },
  {
   "cell_type": "code",
   "execution_count": 8,
   "id": "5a1fa392",
   "metadata": {},
   "outputs": [
    {
     "data": {
      "text/html": [
       "<div>\n",
       "<style scoped>\n",
       "    .dataframe tbody tr th:only-of-type {\n",
       "        vertical-align: middle;\n",
       "    }\n",
       "\n",
       "    .dataframe tbody tr th {\n",
       "        vertical-align: top;\n",
       "    }\n",
       "\n",
       "    .dataframe thead th {\n",
       "        text-align: right;\n",
       "    }\n",
       "</style>\n",
       "<table border=\"1\" class=\"dataframe\">\n",
       "  <thead>\n",
       "    <tr style=\"text-align: right;\">\n",
       "      <th></th>\n",
       "      <th>노선번호</th>\n",
       "      <th>지점번호</th>\n",
       "      <th>도명</th>\n",
       "      <th>시/군</th>\n",
       "      <th>읍/면</th>\n",
       "      <th>동/리</th>\n",
       "      <th>구간</th>\n",
       "      <th>이정(km)</th>\n",
       "      <th>연장(km)</th>\n",
       "      <th>차로수</th>\n",
       "      <th>시간</th>\n",
       "      <th>계</th>\n",
       "      <th>승용차</th>\n",
       "      <th>버스</th>\n",
       "      <th>소형화물</th>\n",
       "      <th>중형화물</th>\n",
       "      <th>대형화물</th>\n",
       "    </tr>\n",
       "  </thead>\n",
       "  <tbody>\n",
       "    <tr>\n",
       "      <th>0</th>\n",
       "      <td>함양울산선</td>\n",
       "      <td>1411</td>\n",
       "      <td>경남</td>\n",
       "      <td>밀양</td>\n",
       "      <td>단장</td>\n",
       "      <td>단장</td>\n",
       "      <td>밀양IC-배내골IC</td>\n",
       "      <td>0~20.5</td>\n",
       "      <td>20.5</td>\n",
       "      <td>4</td>\n",
       "      <td>NaN</td>\n",
       "      <td>9,147</td>\n",
       "      <td>6,594</td>\n",
       "      <td>60</td>\n",
       "      <td>1,346</td>\n",
       "      <td>948</td>\n",
       "      <td>199</td>\n",
       "    </tr>\n",
       "  </tbody>\n",
       "</table>\n",
       "</div>"
      ],
      "text/plain": [
       "    노선번호  지점번호  도명 시/군 읍/면 동/리          구간  이정(km)  연장(km)  차로수  시간      계  \\\n",
       "0  함양울산선  1411  경남  밀양  단장  단장  밀양IC-배내골IC  0~20.5    20.5    4 NaN  9,147   \n",
       "\n",
       "     승용차  버스   소형화물 중형화물 대형화물  \n",
       "0  6,594  60  1,346  948  199  "
      ]
     },
     "execution_count": 8,
     "metadata": {},
     "output_type": "execute_result"
    }
   ],
   "source": [
    "highway_df.head(1)"
   ]
  },
  {
   "cell_type": "code",
   "execution_count": 9,
   "id": "4b44c793",
   "metadata": {},
   "outputs": [
    {
     "data": {
      "text/html": [
       "<div>\n",
       "<style scoped>\n",
       "    .dataframe tbody tr th:only-of-type {\n",
       "        vertical-align: middle;\n",
       "    }\n",
       "\n",
       "    .dataframe tbody tr th {\n",
       "        vertical-align: top;\n",
       "    }\n",
       "\n",
       "    .dataframe thead th {\n",
       "        text-align: right;\n",
       "    }\n",
       "</style>\n",
       "<table border=\"1\" class=\"dataframe\">\n",
       "  <thead>\n",
       "    <tr style=\"text-align: right;\">\n",
       "      <th></th>\n",
       "      <th>Unnamed: 0</th>\n",
       "      <th>본부명</th>\n",
       "      <th>지사명</th>\n",
       "      <th>노선명</th>\n",
       "      <th>구간</th>\n",
       "      <th>방 향</th>\n",
       "      <th>5km</th>\n",
       "      <th>발생건수</th>\n",
       "      <th>위도</th>\n",
       "      <th>경도</th>\n",
       "      <th>발생년도</th>\n",
       "      <th>geometry</th>\n",
       "      <th>index_right</th>\n",
       "      <th>SIG_CD</th>\n",
       "      <th>SIG_ENG_NM</th>\n",
       "      <th>SIG_KOR_NM</th>\n",
       "    </tr>\n",
       "  </thead>\n",
       "  <tbody>\n",
       "    <tr>\n",
       "      <th>0</th>\n",
       "      <td>16</td>\n",
       "      <td>강원</td>\n",
       "      <td>원주</td>\n",
       "      <td>영동선</td>\n",
       "      <td>100~105</td>\n",
       "      <td>인천</td>\n",
       "      <td>100</td>\n",
       "      <td>3</td>\n",
       "      <td>37.249148</td>\n",
       "      <td>127.714622</td>\n",
       "      <td>2022</td>\n",
       "      <td>POINT (127.7146223 37.24914838)</td>\n",
       "      <td>33</td>\n",
       "      <td>41670</td>\n",
       "      <td>Yeoju-si</td>\n",
       "      <td>���ֽ�</td>\n",
       "    </tr>\n",
       "  </tbody>\n",
       "</table>\n",
       "</div>"
      ],
      "text/plain": [
       "   Unnamed: 0  본부명   지사명   노선명       구간   방 향    5km    발생건수          위도  \\\n",
       "0          16    강원    원주   영동선  100~105    인천    100       3  37.249148   \n",
       "\n",
       "           경도  발생년도                         geometry  index_right  SIG_CD  \\\n",
       "0  127.714622  2022  POINT (127.7146223 37.24914838)           33   41670   \n",
       "\n",
       "  SIG_ENG_NM SIG_KOR_NM  \n",
       "0   Yeoju-si      ���ֽ�  "
      ]
     },
     "execution_count": 9,
     "metadata": {},
     "output_type": "execute_result"
    }
   ],
   "source": [
    "geongi_df.head(1)"
   ]
  },
  {
   "cell_type": "code",
   "execution_count": 10,
   "id": "3054e3d7",
   "metadata": {},
   "outputs": [
    {
     "name": "stdout",
     "output_type": "stream",
     "text": [
      "484\n",
      "331\n"
     ]
    }
   ],
   "source": [
    "print(len(roadkill_df))\n",
    "print(len(geongi_df))"
   ]
  },
  {
   "cell_type": "code",
   "execution_count": 13,
   "id": "35d310b7",
   "metadata": {},
   "outputs": [],
   "source": [
    "# 필요없는 컬럼 드랍\n",
    "columns_to_drop = ['wkt_geom', 'SPCE_ID', 'EXAMIN_REA', 'SPCS_SCNCE', 'EXAMIN_YEA', 'EXAMIN_BEG', 'EXAMIN_END']\n",
    "animal_df = animal.drop(columns=columns_to_drop, axis=1)\n",
    "\n",
    "# 'longitude'와 'latitude'가 무한대인 행 제거\n",
    "animal_df = animal_df[~animal_df['longitude'].isin([np.inf, -np.inf])]\n",
    "animal_df = animal_df[~animal_df['latitude'].isin([np.inf, -np.inf])]\n",
    "\n",
    "# latitude, longitude 컬럼명을 한국어로 변경\n",
    "animal_df = animal_df.rename(columns={'latitude': '위도', 'longitude': '경도'})\n",
    "\n",
    "# 삭제하고자 하는 값들 / 조류, 설치류 제거\n",
    "values_to_remove = ['큰수염박쥐', '북방애기박쥐', '비단털쥐', '관코박쥐', '제주땃쥐', '우수리땃쥐', \n",
    "                    '집박쥐', '양박쥐', '갈밭쥐', '등줄쥐', '멧밭쥐', '우수리박쥐', '큰집박쥐', \n",
    "                    '쇠윗수염박쥐', '큰발윗수염박쥐', '집쥐', '흰넓적다리붉은쥐', '작은땃쥐', '뒤쥐', \n",
    "                    '생쥐', '관박쥐', '안주애기박쥐', '대륙밭쥐', '문둥이박쥐', '흰배윗수염박쥐', \n",
    "                    '대륙쇠큰수염박쥐', '돌고래', '다람쥐', '청설모', '고슴도치', '뉴트리아']\n",
    "\n",
    "# 'SPCS_LCNM'이 삭제하고자 하는 값들을 포함하지 않는 행 선택\n",
    "animal_df = animal_df[~animal_df['SPCS_LCNM'].isin(values_to_remove)]"
   ]
  },
  {
   "cell_type": "code",
   "execution_count": 14,
   "id": "da7435e1",
   "metadata": {},
   "outputs": [],
   "source": [
    "# 필요없는 컬럼 드랍\n",
    "columns_to_drop2 = ['번호', '생태통로명', '주소', '차선_수', '관리기관', '생태통로유형', '설치기관']\n",
    "route_df = route.drop(columns=columns_to_drop2, axis=1)"
   ]
  },
  {
   "cell_type": "code",
   "execution_count": 15,
   "id": "42b7d399",
   "metadata": {},
   "outputs": [],
   "source": [
    "# roadkill_df를 result_df에 복사합니다.\n",
    "result_df = roadkill_df.copy()"
   ]
  },
  {
   "cell_type": "code",
   "execution_count": 16,
   "id": "fa9ceafe",
   "metadata": {},
   "outputs": [],
   "source": [
    "# result_df에 울타리 평균 길이와 울타리 평균 높이를 저장할 열 추가\n",
    "result_df['울타리 평균 길이'] = 0\n",
    "result_df['울타리 평균 높이'] = 0\n",
    "\n",
    "# 각 5KM 데이터에 대해 fence에서 범위에 해당하는 row를 찾고 연장과 높이의 평균을 계산하여 result_df에 저장\n",
    "for index, row in result_df.iterrows():\n",
    "    start_point = row[' 5km ']\n",
    "    end_point = row[' 5km ']\n",
    "    \n",
    "    # 설치시점과 설치종점 범위 내의 데이터 추출\n",
    "    relevant_fences = fence[(fence['설치시점'] <= start_point) & (fence['설치종점'] >= end_point)]\n",
    "    \n",
    "    # 연장과 높이의 평균 계산\n",
    "    avg_extension = relevant_fences['연장'].mean()\n",
    "    avg_height = relevant_fences['높이'].mean()\n",
    "    \n",
    "    # 결과 데이터프레임에 저장\n",
    "    result_df.at[index, '울타리 평균 길이'] = avg_extension\n",
    "    result_df.at[index, '울타리 평균 높이'] = avg_height\n"
   ]
  },
  {
   "cell_type": "code",
   "execution_count": null,
   "id": "956b1320",
   "metadata": {},
   "outputs": [],
   "source": []
  }
 ],
 "metadata": {
  "kernelspec": {
   "display_name": "Python 3 (ipykernel)",
   "language": "python",
   "name": "python3"
  },
  "language_info": {
   "codemirror_mode": {
    "name": "ipython",
    "version": 3
   },
   "file_extension": ".py",
   "mimetype": "text/x-python",
   "name": "python",
   "nbconvert_exporter": "python",
   "pygments_lexer": "ipython3",
   "version": "3.11.5"
  }
 },
 "nbformat": 4,
 "nbformat_minor": 5
}
