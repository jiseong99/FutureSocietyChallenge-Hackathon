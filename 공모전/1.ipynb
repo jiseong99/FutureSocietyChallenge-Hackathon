{
 "cells": [
  {
   "cell_type": "code",
   "execution_count": 1,
   "id": "b7a0987f",
   "metadata": {},
   "outputs": [],
   "source": [
    "import geopandas as gpd\n",
    "import matplotlib.pyplot as plt\n",
    "import pandas as pd"
   ]
  },
  {
   "cell_type": "code",
   "execution_count": 2,
   "id": "b5eea262",
   "metadata": {},
   "outputs": [],
   "source": [
    "route_csv = pd.read_csv(r'G:\\내 드라이브\\공모전1\\데이터\\생태통로.csv', encoding = 'cp949')\n",
    "fence_csv = pd.read_csv(r'G:\\내 드라이브\\공모전1\\데이터\\유도울타리.csv', encoding = 'cp949')\n",
    "roadkill_csv = pd.read_csv(r'G:\\내 드라이브\\공모전1\\데이터\\한국도로공사_로드킬 데이터 정보_20220630.csv', encoding = 'cp949')\n",
    "roadkill2_csv = pd.read_csv(r'G:\\내 드라이브\\공모전1\\데이터\\국립생태원_로드킬 정보시스템 로드킬 신고 현황_20201231.csv')\n",
    "animal = pd.read_csv(r'G:\\내 드라이브\\공모전1\\데이터\\국내 포유류 서식 분포_pre.csv', encoding = 'cp949')"
   ]
  },
  {
   "cell_type": "code",
   "execution_count": 3,
   "id": "5e1a1cad",
   "metadata": {},
   "outputs": [
    {
     "data": {
      "text/html": [
       "<div>\n",
       "<style scoped>\n",
       "    .dataframe tbody tr th:only-of-type {\n",
       "        vertical-align: middle;\n",
       "    }\n",
       "\n",
       "    .dataframe tbody tr th {\n",
       "        vertical-align: top;\n",
       "    }\n",
       "\n",
       "    .dataframe thead th {\n",
       "        text-align: right;\n",
       "    }\n",
       "</style>\n",
       "<table border=\"1\" class=\"dataframe\">\n",
       "  <thead>\n",
       "    <tr style=\"text-align: right;\">\n",
       "      <th></th>\n",
       "      <th>wkt_geom</th>\n",
       "      <th>SPCE_ID</th>\n",
       "      <th>EXAMIN_REA</th>\n",
       "      <th>SPCS_LCNM</th>\n",
       "      <th>SPCS_SCNCE</th>\n",
       "      <th>EXAMIN_YEA</th>\n",
       "      <th>EXAMIN_BEG</th>\n",
       "      <th>EXAMIN_END</th>\n",
       "      <th>longitude</th>\n",
       "      <th>latitude</th>\n",
       "    </tr>\n",
       "  </thead>\n",
       "  <tbody>\n",
       "    <tr>\n",
       "      <th>0</th>\n",
       "      <td>215407.71410000044852495 406578.46749999932944775</td>\n",
       "      <td>9000000000553120</td>\n",
       "      <td>포유류</td>\n",
       "      <td>고라니</td>\n",
       "      <td>Hydropotes inermis</td>\n",
       "      <td>2017</td>\n",
       "      <td>2017-09-16</td>\n",
       "      <td>2017-09-16</td>\n",
       "      <td>127.171444</td>\n",
       "      <td>36.257028</td>\n",
       "    </tr>\n",
       "    <tr>\n",
       "      <th>1</th>\n",
       "      <td>215907.47499999962747097 422660.06469999998807907</td>\n",
       "      <td>9000000000553120</td>\n",
       "      <td>포유류</td>\n",
       "      <td>고라니</td>\n",
       "      <td>Hydropotes inermis</td>\n",
       "      <td>2017</td>\n",
       "      <td>2017-03-31</td>\n",
       "      <td>2017-03-31</td>\n",
       "      <td>127.177333</td>\n",
       "      <td>36.401944</td>\n",
       "    </tr>\n",
       "    <tr>\n",
       "      <th>2</th>\n",
       "      <td>215333.71580000035464764 425855.55189999938011169</td>\n",
       "      <td>9000000000553130</td>\n",
       "      <td>포유류</td>\n",
       "      <td>고라니</td>\n",
       "      <td>Hydropotes inermis</td>\n",
       "      <td>2017</td>\n",
       "      <td>2017-03-31</td>\n",
       "      <td>2017-03-31</td>\n",
       "      <td>127.171000</td>\n",
       "      <td>36.430750</td>\n",
       "    </tr>\n",
       "  </tbody>\n",
       "</table>\n",
       "</div>"
      ],
      "text/plain": [
       "                                            wkt_geom           SPCE_ID  \\\n",
       "0  215407.71410000044852495 406578.46749999932944775  9000000000553120   \n",
       "1  215907.47499999962747097 422660.06469999998807907  9000000000553120   \n",
       "2  215333.71580000035464764 425855.55189999938011169  9000000000553130   \n",
       "\n",
       "  EXAMIN_REA SPCS_LCNM          SPCS_SCNCE  EXAMIN_YEA  EXAMIN_BEG  \\\n",
       "0        포유류       고라니  Hydropotes inermis        2017  2017-09-16   \n",
       "1        포유류       고라니  Hydropotes inermis        2017  2017-03-31   \n",
       "2        포유류       고라니  Hydropotes inermis        2017  2017-03-31   \n",
       "\n",
       "   EXAMIN_END   longitude   latitude  \n",
       "0  2017-09-16  127.171444  36.257028  \n",
       "1  2017-03-31  127.177333  36.401944  \n",
       "2  2017-03-31  127.171000  36.430750  "
      ]
     },
     "execution_count": 3,
     "metadata": {},
     "output_type": "execute_result"
    }
   ],
   "source": [
    "animal.head(3)"
   ]
  },
  {
   "cell_type": "code",
   "execution_count": 4,
   "id": "3f9655f8",
   "metadata": {},
   "outputs": [
    {
     "data": {
      "text/plain": [
       "array(['포유류'], dtype=object)"
      ]
     },
     "execution_count": 4,
     "metadata": {},
     "output_type": "execute_result"
    }
   ],
   "source": [
    "animal.EXAMIN_REA.unique()"
   ]
  },
  {
   "cell_type": "code",
   "execution_count": 5,
   "id": "e885ef0f",
   "metadata": {},
   "outputs": [
    {
     "data": {
      "text/plain": [
       "array(['고라니', '멧돼지', '족제비', '두더지', '다람쥐', '청설모', '오소리', '너구리', '고슴도치',\n",
       "       '노루', '큰수염박쥐', '북방애기박쥐', '비단털쥐', '관코박쥐', '제주땃쥐', '우수리땃쥐', '멧토끼',\n",
       "       '집박쥐', '양박쥐', '말사슴', '갈밭쥐', '등줄쥐', '멧밭쥐', '우수리박쥐', '뉴트리아', '큰집박쥐',\n",
       "       '쇠윗수염박쥐', '큰발윗수염박쥐', '집쥐', '흰넓적다리붉은쥐', '작은땃쥐', '뒤쥐', '생쥐', '관박쥐',\n",
       "       '안주애기박쥐', '대륙밭쥐', '문둥이박쥐', '흰배윗수염박쥐', '대륙쇠큰수염박쥐', '돌고래'],\n",
       "      dtype=object)"
      ]
     },
     "execution_count": 5,
     "metadata": {},
     "output_type": "execute_result"
    }
   ],
   "source": [
    "animal.SPCS_LCNM.unique()"
   ]
  },
  {
   "cell_type": "code",
   "execution_count": 6,
   "id": "ba9cdef0",
   "metadata": {},
   "outputs": [],
   "source": [
    "# 필요없는 컬럼 드랍\n",
    "columns_to_drop = ['wkt_geom', 'SPCE_ID', 'SPCS_SCNCE', 'EXAMIN_YEA', 'EXAMIN_BEG', 'EXAMIN_END']\n",
    "animal_df = animal.drop(columns=columns_to_drop, axis=1)"
   ]
  },
  {
   "cell_type": "code",
   "execution_count": 7,
   "id": "46bba224",
   "metadata": {},
   "outputs": [
    {
     "data": {
      "text/html": [
       "<div>\n",
       "<style scoped>\n",
       "    .dataframe tbody tr th:only-of-type {\n",
       "        vertical-align: middle;\n",
       "    }\n",
       "\n",
       "    .dataframe tbody tr th {\n",
       "        vertical-align: top;\n",
       "    }\n",
       "\n",
       "    .dataframe thead th {\n",
       "        text-align: right;\n",
       "    }\n",
       "</style>\n",
       "<table border=\"1\" class=\"dataframe\">\n",
       "  <thead>\n",
       "    <tr style=\"text-align: right;\">\n",
       "      <th></th>\n",
       "      <th>EXAMIN_REA</th>\n",
       "      <th>SPCS_LCNM</th>\n",
       "      <th>longitude</th>\n",
       "      <th>latitude</th>\n",
       "    </tr>\n",
       "  </thead>\n",
       "  <tbody>\n",
       "    <tr>\n",
       "      <th>0</th>\n",
       "      <td>포유류</td>\n",
       "      <td>고라니</td>\n",
       "      <td>127.171444</td>\n",
       "      <td>36.257028</td>\n",
       "    </tr>\n",
       "    <tr>\n",
       "      <th>1</th>\n",
       "      <td>포유류</td>\n",
       "      <td>고라니</td>\n",
       "      <td>127.177333</td>\n",
       "      <td>36.401944</td>\n",
       "    </tr>\n",
       "    <tr>\n",
       "      <th>2</th>\n",
       "      <td>포유류</td>\n",
       "      <td>고라니</td>\n",
       "      <td>127.171000</td>\n",
       "      <td>36.430750</td>\n",
       "    </tr>\n",
       "  </tbody>\n",
       "</table>\n",
       "</div>"
      ],
      "text/plain": [
       "  EXAMIN_REA SPCS_LCNM   longitude   latitude\n",
       "0        포유류       고라니  127.171444  36.257028\n",
       "1        포유류       고라니  127.177333  36.401944\n",
       "2        포유류       고라니  127.171000  36.430750"
      ]
     },
     "execution_count": 7,
     "metadata": {},
     "output_type": "execute_result"
    }
   ],
   "source": [
    "animal_df.head(3)"
   ]
  },
  {
   "cell_type": "code",
   "execution_count": 8,
   "id": "ea6b4340",
   "metadata": {},
   "outputs": [],
   "source": [
    "shp_path = 'G:\\\\내 드라이브\\\\공모전1\\\\데이터\\\\도로경계_선\\\\N3L_A0010000_A.shp'\n",
    "gdf = gpd.read_file(shp_path)"
   ]
  },
  {
   "cell_type": "code",
   "execution_count": 9,
   "id": "9d78fb1b",
   "metadata": {},
   "outputs": [],
   "source": [
    "import folium\n",
    "from folium.plugins import MarkerCluster"
   ]
  },
  {
   "cell_type": "code",
   "execution_count": 23,
   "id": "ba8e7f49",
   "metadata": {},
   "outputs": [],
   "source": [
    "df_coordinates = animal_df[['longitude', 'latitude']]\n",
    "\n",
    "# 위도 경도 정보를 GeoDataFrame으로 변환\n",
    "geometry = gpd.points_from_xy(df_coordinates['longitude'], df_coordinates['latitude'])\n",
    "gdf_coordinates = gpd.GeoDataFrame(df_coordinates, geometry=geometry, crs=gdf.crs)"
   ]
  },
  {
   "cell_type": "code",
   "execution_count": 24,
   "id": "098faf0d",
   "metadata": {},
   "outputs": [
    {
     "data": {
      "text/plain": [
       "<Axes: >"
      ]
     },
     "execution_count": 24,
     "metadata": {},
     "output_type": "execute_result"
    },
    {
     "data": {
      "image/png": "[encoded data removed]",
      "text/plain": [
       "<Figure size 640x480 with 1 Axes>"
      ]
     },
     "metadata": {},
     "output_type": "display_data"
    }
   ],
   "source": [
    "# 도로 경계선 맵핑\n",
    "ax = gdf.plot()\n",
    "\n",
    "# 위도 경도 정보 맵핑\n",
    "gdf_coordinates.plot(ax=ax, color='red', marker='o', markersize=5)"
   ]
  },
  {
   "cell_type": "code",
   "execution_count": 25,
   "id": "e2d84981",
   "metadata": {
    "scrolled": false
   },
   "outputs": [],
   "source": [
    "plt.show()"
   ]
  },
  {
   "cell_type": "code",
   "execution_count": 1,
   "id": "afb03984",
   "metadata": {},
   "outputs": [],
   "source": [
    "import pandas as pd"
   ]
  },
  {
   "cell_type": "code",
   "execution_count": 4,
   "id": "792fe00e",
   "metadata": {},
   "outputs": [],
   "source": [
    "asdf = pd.read_csv(r'G:\\내 드라이브\\공모전1\\데이터\\DSRC_구간통행속도_5분_1개월_202312', encoding = 'cp949')"
   ]
  },
  {
   "cell_type": "code",
   "execution_count": 5,
   "id": "44f38f1d",
   "metadata": {},
   "outputs": [
    {
     "data": {
      "text/html": [
       "<div>\n",
       "<style scoped>\n",
       "    .dataframe tbody tr th:only-of-type {\n",
       "        vertical-align: middle;\n",
       "    }\n",
       "\n",
       "    .dataframe tbody tr th {\n",
       "        vertical-align: top;\n",
       "    }\n",
       "\n",
       "    .dataframe thead th {\n",
       "        text-align: right;\n",
       "    }\n",
       "</style>\n",
       "<table border=\"1\" class=\"dataframe\">\n",
       "  <thead>\n",
       "    <tr style=\"text-align: right;\">\n",
       "      <th></th>\n",
       "      <th>집계일자</th>\n",
       "      <th>집계시분</th>\n",
       "      <th>콘존ID</th>\n",
       "      <th>DSRC차종유형구분코드</th>\n",
       "      <th>평균속도</th>\n",
       "      <th>Unnamed: 5</th>\n",
       "    </tr>\n",
       "  </thead>\n",
       "  <tbody>\n",
       "    <tr>\n",
       "      <th>0</th>\n",
       "      <td>2023-12-01</td>\n",
       "      <td>00:00</td>\n",
       "      <td>0010CZE005</td>\n",
       "      <td>1</td>\n",
       "      <td>-1.00</td>\n",
       "      <td>NaN</td>\n",
       "    </tr>\n",
       "    <tr>\n",
       "      <th>1</th>\n",
       "      <td>2023-12-01</td>\n",
       "      <td>00:00</td>\n",
       "      <td>0010CZE005</td>\n",
       "      <td>2</td>\n",
       "      <td>-1.00</td>\n",
       "      <td>NaN</td>\n",
       "    </tr>\n",
       "    <tr>\n",
       "      <th>2</th>\n",
       "      <td>2023-12-01</td>\n",
       "      <td>00:00</td>\n",
       "      <td>0010CZE010</td>\n",
       "      <td>1</td>\n",
       "      <td>104.09</td>\n",
       "      <td>NaN</td>\n",
       "    </tr>\n",
       "    <tr>\n",
       "      <th>3</th>\n",
       "      <td>2023-12-01</td>\n",
       "      <td>00:00</td>\n",
       "      <td>0010CZE010</td>\n",
       "      <td>2</td>\n",
       "      <td>-1.00</td>\n",
       "      <td>NaN</td>\n",
       "    </tr>\n",
       "    <tr>\n",
       "      <th>4</th>\n",
       "      <td>2023-12-01</td>\n",
       "      <td>00:00</td>\n",
       "      <td>0010CZE011</td>\n",
       "      <td>1</td>\n",
       "      <td>88.52</td>\n",
       "      <td>NaN</td>\n",
       "    </tr>\n",
       "  </tbody>\n",
       "</table>\n",
       "</div>"
      ],
      "text/plain": [
       "         집계일자   집계시분        콘존ID  DSRC차종유형구분코드    평균속도  Unnamed: 5\n",
       "0  2023-12-01  00:00  0010CZE005             1   -1.00         NaN\n",
       "1  2023-12-01  00:00  0010CZE005             2   -1.00         NaN\n",
       "2  2023-12-01  00:00  0010CZE010             1  104.09         NaN\n",
       "3  2023-12-01  00:00  0010CZE010             2   -1.00         NaN\n",
       "4  2023-12-01  00:00  0010CZE011             1   88.52         NaN"
      ]
     },
     "execution_count": 5,
     "metadata": {},
     "output_type": "execute_result"
    }
   ],
   "source": [
    "asdf.head()"
   ]
  },
  {
   "cell_type": "code",
   "execution_count": null,
   "id": "e406b7bd",
   "metadata": {},
   "outputs": [],
   "source": []
  }
 ],
 "metadata": {
  "kernelspec": {
   "display_name": "Python 3 (ipykernel)",
   "language": "python",
   "name": "python3"
  },
  "language_info": {
   "codemirror_mode": {
    "name": "ipython",
    "version": 3
   },
   "file_extension": ".py",
   "mimetype": "text/x-python",
   "name": "python",
   "nbconvert_exporter": "python",
   "pygments_lexer": "ipython3",
   "version": "3.11.3"
  }
 },
 "nbformat": 4,
 "nbformat_minor": 5
}
