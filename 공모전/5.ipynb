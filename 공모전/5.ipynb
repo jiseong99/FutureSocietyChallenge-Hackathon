{
 "cells": [
  {
   "cell_type": "code",
   "execution_count": 24,
   "id": "d8ff81b1",
   "metadata": {},
   "outputs": [
    {
     "data": {
      "text/html": [
       "<style>.container { width:95% !important; }</style>"
      ],
      "text/plain": [
       "<IPython.core.display.HTML object>"
      ]
     },
     "metadata": {},
     "output_type": "display_data"
    }
   ],
   "source": [
    "from IPython.display import display, HTML\n",
    "display(HTML(\"<style>.container { width:95% !important; }</style>\"))"
   ]
  },
  {
   "cell_type": "code",
   "execution_count": 25,
   "id": "0fabbf68",
   "metadata": {},
   "outputs": [],
   "source": [
    "import folium\n",
    "from folium.plugins import MarkerCluster\n",
    "import json\n",
    "import pandas as pd\n",
    "import seaborn as sns\n",
    "import matplotlib.pyplot as plt\n",
    "from matplotlib import font_manager, rc\n",
    "import numpy as np\n",
    "import requests\n",
    "from folium.plugins import MiniMap\n",
    "from geopy.distance import geodesic"
   ]
  },
  {
   "cell_type": "code",
   "execution_count": 26,
   "id": "b00bff2b",
   "metadata": {},
   "outputs": [],
   "source": [
    "roadkill_2019 = pd.read_csv(r'G:\\내 드라이브\\공모전1\\데이터\\로드킬\\한국도로공사_로드킬 데이터 정보_2019.csv', encoding = 'cp949')\n",
    "roadkill_2020 = pd.read_csv(r'G:\\내 드라이브\\공모전1\\데이터\\로드킬\\한국도로공사_로드킬 데이터 정보_2020.csv', encoding = 'cp949')\n",
    "roadkill_2021 = pd.read_csv(r'G:\\내 드라이브\\공모전1\\데이터\\로드킬\\한국도로공사_로드킬 데이터 정보_2021.csv', encoding = 'cp949')\n",
    "roadkill_2022 = pd.read_csv(r'G:\\내 드라이브\\공모전1\\데이터\\로드킬\\한국도로공사_로드킬 데이터 정보_2022.csv', encoding = 'cp949')\n",
    "roadkill_df = pd.read_csv(r'G:\\내 드라이브\\공모전1\\전처리\\한국도로공사_로드킬 데이터 정보_2022~2019 .csv', encoding = 'cp949')"
   ]
  },
  {
   "cell_type": "code",
   "execution_count": 27,
   "id": "1f4df6f9",
   "metadata": {},
   "outputs": [],
   "source": [
    "route = pd.read_csv(r'G:\\내 드라이브\\공모전1\\전처리\\생태통로_pre.csv')\n",
    "fence = pd.read_csv(r'G:\\내 드라이브\\공모전1\\데이터\\유도울타리.csv', encoding = 'cp949')\n",
    "animal = pd.read_csv(r'G:\\내 드라이브\\공모전1\\데이터\\국내 포유류 서식 분포_pre.csv', encoding = 'cp949')\n",
    "speed = pd.read_csv(r'G:\\내 드라이브\\공모전1\\데이터\\한국도로공사_고속도로 구간별 제한속도_20230630.csv', encoding = 'cp949')"
   ]
  },
  {
   "cell_type": "code",
   "execution_count": null,
   "id": "b1dabfbd",
   "metadata": {},
   "outputs": [],
   "source": []
  }
 ],
 "metadata": {
  "kernelspec": {
   "display_name": "Python 3 (ipykernel)",
   "language": "python",
   "name": "python3"
  },
  "language_info": {
   "codemirror_mode": {
    "name": "ipython",
    "version": 3
   },
   "file_extension": ".py",
   "mimetype": "text/x-python",
   "name": "python",
   "nbconvert_exporter": "python",
   "pygments_lexer": "ipython3",
   "version": "3.11.5"
  }
 },
 "nbformat": 4,
 "nbformat_minor": 5
}
